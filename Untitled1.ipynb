{
  "nbformat": 4,
  "nbformat_minor": 0,
  "metadata": {
    "colab": {
      "provenance": [],
      "authorship_tag": "ABX9TyO3kmYKUE4/Aj6HX6w8XnXG",
      "include_colab_link": true
    },
    "kernelspec": {
      "name": "python3",
      "display_name": "Python 3"
    },
    "language_info": {
      "name": "python"
    }
  },
  "cells": [
    {
      "cell_type": "markdown",
      "metadata": {
        "id": "view-in-github",
        "colab_type": "text"
      },
      "source": [
        "<a href=\"https://colab.research.google.com/github/Bah2303357/Bah/blob/main/Untitled1.ipynb\" target=\"_parent\"><img src=\"https://colab.research.google.com/assets/colab-badge.svg\" alt=\"Open In Colab\"/></a>"
      ]
    },
    {
      "cell_type": "markdown",
      "source": [
        "#Aula 04 Setembro"
      ],
      "metadata": {
        "id": "X967I-0OL4BB"
      }
    },
    {
      "cell_type": "markdown",
      "source": [
        "Polegadas"
      ],
      "metadata": {
        "id": "v79YW_TKL_wB"
      }
    },
    {
      "cell_type": "code",
      "source": [
        "P = float(input(\"digite valor em polegadas \"))\n",
        "mm = P * 25.4\n",
        "print(mm)"
      ],
      "metadata": {
        "id": "w98FwfSTL-34"
      },
      "execution_count": null,
      "outputs": []
    }
  ]
}