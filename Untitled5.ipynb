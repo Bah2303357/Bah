{
  "nbformat": 4,
  "nbformat_minor": 0,
  "metadata": {
    "colab": {
      "provenance": [],
      "authorship_tag": "ABX9TyPS4x2N0nDXKZXtYDyPoRbY",
      "include_colab_link": true
    },
    "kernelspec": {
      "name": "python3",
      "display_name": "Python 3"
    },
    "language_info": {
      "name": "python"
    }
  },
  "cells": [
    {
      "cell_type": "markdown",
      "metadata": {
        "id": "view-in-github",
        "colab_type": "text"
      },
      "source": [
        "<a href=\"https://colab.research.google.com/github/Bah2303357/Bah/blob/main/Untitled5.ipynb\" target=\"_parent\"><img src=\"https://colab.research.google.com/assets/colab-badge.svg\" alt=\"Open In Colab\"/></a>"
      ]
    },
    {
      "cell_type": "markdown",
      "source": [
        "#25/09\n"
      ],
      "metadata": {
        "id": "5ad8aPEtOVv8"
      }
    },
    {
      "cell_type": "markdown",
      "source": [
        "#Contar de 0 a 9"
      ],
      "metadata": {
        "id": "MzvsY3WvcTBQ"
      }
    },
    {
      "cell_type": "code",
      "execution_count": 3,
      "metadata": {
        "colab": {
          "base_uri": "https://localhost:8080/"
        },
        "id": "aIt5tu0JORbM",
        "outputId": "9960e8be-2e4a-4654-cf34-fb05aff9064f"
      },
      "outputs": [
        {
          "output_type": "stream",
          "name": "stdout",
          "text": [
            "0\n",
            "1\n",
            "2\n",
            "3\n",
            "4\n",
            "5\n",
            "6\n",
            "7\n",
            "8\n",
            "9\n"
          ]
        }
      ],
      "source": [
        "for i in range(10):\n",
        "  print(i)"
      ]
    },
    {
      "cell_type": "markdown",
      "source": [
        "#Contar de 0 até 12 de 0,5 e 0,5"
      ],
      "metadata": {
        "id": "tr-brGwjcxds"
      }
    },
    {
      "cell_type": "code",
      "source": [
        "for i in range(0,13 0,5):\n",
        "  print (i)"
      ],
      "metadata": {
        "colab": {
          "base_uri": "https://localhost:8080/",
          "height": 106
        },
        "id": "MYG-PKSMcavI",
        "outputId": "4050408a-e574-40cf-ab91-5f53c3d1ce9d"
      },
      "execution_count": 6,
      "outputs": [
        {
          "output_type": "error",
          "ename": "SyntaxError",
          "evalue": "invalid syntax. Perhaps you forgot a comma? (<ipython-input-6-ad87fbfcb667>, line 1)",
          "traceback": [
            "\u001b[0;36m  File \u001b[0;32m\"<ipython-input-6-ad87fbfcb667>\"\u001b[0;36m, line \u001b[0;32m1\u001b[0m\n\u001b[0;31m    for i in range(0,13 0,5):\u001b[0m\n\u001b[0m                     ^\u001b[0m\n\u001b[0;31mSyntaxError\u001b[0m\u001b[0;31m:\u001b[0m invalid syntax. Perhaps you forgot a comma?\n"
          ]
        }
      ]
    },
    {
      "cell_type": "markdown",
      "source": [
        "While True"
      ],
      "metadata": {
        "id": "0pDzotCrhUeu"
      }
    },
    {
      "cell_type": "code",
      "source": [
        "While true:\n",
        "\n",
        "resposta = input(\"Deseja realizar a soma de 2 variavies? (S/N): \").strip().upper()\n",
        "if resporta =='S':\n",
        "  var1 = float(input)(\"Digite o valor da primeira variavel:\"))\n",
        "  var2 = float(input)(\"Digite o valor da primeira variavel:\"))\n",
        "  soma = var1 + var2\n",
        "  print(f\"A soma de {var1}e {var2} é : {soma:.2f}\\n\")\n",
        "  elif resposta == 'N' :\n",
        "    print(\"Operação finalizada\")\n",
        "  else:\n",
        "    print(\"Resposta inválifa ! Por favor, digite 'S' para Sim ou 'N'para Não.\\n\")"
      ],
      "metadata": {
        "colab": {
          "base_uri": "https://localhost:8080/",
          "height": 106
        },
        "id": "SiT23MLohXwG",
        "outputId": "b7741767-827a-4886-cb25-0362df01c6a8"
      },
      "execution_count": 8,
      "outputs": [
        {
          "output_type": "error",
          "ename": "SyntaxError",
          "evalue": "unmatched ')' (<ipython-input-8-e2aeb32299dd>, line 5)",
          "traceback": [
            "\u001b[0;36m  File \u001b[0;32m\"<ipython-input-8-e2aeb32299dd>\"\u001b[0;36m, line \u001b[0;32m5\u001b[0m\n\u001b[0;31m    var1 = float(input)(\"Digite o valor da primeira variavel:\"))\u001b[0m\n\u001b[0m                                                               ^\u001b[0m\n\u001b[0;31mSyntaxError\u001b[0m\u001b[0;31m:\u001b[0m unmatched ')'\n"
          ]
        }
      ]
    },
    {
      "cell_type": "markdown",
      "source": [],
      "metadata": {
        "id": "x1U0norwhTbe"
      }
    }
  ]
}